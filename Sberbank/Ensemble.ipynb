{
 "cells": [
  {
   "cell_type": "markdown",
   "metadata": {},
   "source": [
    "# Ensemble Methods"
   ]
  },
  {
   "cell_type": "code",
   "execution_count": 2,
   "metadata": {
    "collapsed": true
   },
   "outputs": [],
   "source": [
    "import numpy as np\n",
    "import pandas as pd\n",
    "import seaborn as sns\n",
    "import matplotlib.pyplot as plt\n",
    "%matplotlib inline\n",
    "\n",
    "import pickle\n",
    "import matplotlib\n",
    "matplotlib.rcParams['figure.figsize'] = (10, 6)\n",
    "\n",
    "dataDir = './data/'\n",
    "# load original train/test data\n",
    "#file_train = open(dataDir + 'train.dump', 'rb')\n",
    "#file_test = open(dataDir + 'test.dump', 'rb')\n",
    "\n",
    "#df_train = pickle.load(file_train)\n",
    "#df_test = pickle.load(file_test)\n",
    "\n",
    "file_train_wo = open(dataDir + 'train_without_noise.dump', 'rb')\n",
    "df_train_wo = pickle.load(file_train_wo)\n",
    "df_train = df_train_wo\n",
    "\n",
    "file_test = open(dataDir + 'test.dump', 'rb')\n",
    "df_test = pickle.load(file_test)"
   ]
  },
  {
   "cell_type": "code",
   "execution_count": 3,
   "metadata": {},
   "outputs": [
    {
     "data": {
      "text/plain": [
       "52"
      ]
     },
     "execution_count": 3,
     "metadata": {},
     "output_type": "execute_result"
    }
   ],
   "source": [
    "miss_cnt = df_train.apply(lambda x: sum(pd.isnull(x)))\n",
    "col_dropped = miss_cnt[miss_cnt>0].index\n",
    "len(col_dropped)"
   ]
  },
  {
   "cell_type": "code",
   "execution_count": 4,
   "metadata": {
    "collapsed": true
   },
   "outputs": [],
   "source": [
    "df_train_cont = df_train.select_dtypes(exclude=['object']).drop(list(col_dropped)+['id'], axis=1)\n",
    "df_train_cat = df_train.select_dtypes(include=['object']).drop('timestamp', axis=1)"
   ]
  },
  {
   "cell_type": "code",
   "execution_count": 5,
   "metadata": {},
   "outputs": [
    {
     "data": {
      "text/plain": [
       "(Index(['full_sq', 'area_m', 'raion_popul', 'green_zone_part', 'indust_part',\n",
       "        'children_preschool', 'children_school',\n",
       "        'school_education_centers_raion',\n",
       "        'school_education_centers_top_20_raion', 'healthcare_centers_raion',\n",
       "        ...\n",
       "        'big_market_raion_yes', 'nuclear_reactor_raion_yes',\n",
       "        'detention_facility_raion_yes', 'water_1line_yes',\n",
       "        'big_road1_1line_yes', 'railroad_1line_yes', 'ecology_good',\n",
       "        'ecology_no data', 'ecology_poor', 'ecology_satisfactory'],\n",
       "       dtype='object', length=385), (28895, 385))"
      ]
     },
     "execution_count": 5,
     "metadata": {},
     "output_type": "execute_result"
    }
   ],
   "source": [
    "df_train_vec = pd.get_dummies(df_train_cat, drop_first=True)\n",
    "df_tr = pd.concat([df_train_cont, df_train_vec], axis=1)\n",
    "df_tr.columns, df_tr.shape"
   ]
  },
  {
   "cell_type": "code",
   "execution_count": 6,
   "metadata": {
    "collapsed": true
   },
   "outputs": [],
   "source": [
    "X = df_tr.drop('price_doc', axis=1)\n",
    "y = df_tr.price_doc"
   ]
  },
  {
   "cell_type": "code",
   "execution_count": 26,
   "metadata": {},
   "outputs": [
    {
     "data": {
      "text/plain": [
       "(Index(['full_sq', 'area_m', 'raion_popul', 'green_zone_part', 'indust_part',\n",
       "        'children_preschool', 'children_school',\n",
       "        'school_education_centers_raion',\n",
       "        'school_education_centers_top_20_raion', 'healthcare_centers_raion',\n",
       "        ...\n",
       "        'big_market_raion_yes', 'nuclear_reactor_raion_yes',\n",
       "        'detention_facility_raion_yes', 'water_1line_yes',\n",
       "        'big_road1_1line_yes', 'railroad_1line_yes', 'ecology_good',\n",
       "        'ecology_no data', 'ecology_poor', 'ecology_satisfactory'],\n",
       "       dtype='object', length=383), (7662, 383))"
      ]
     },
     "execution_count": 26,
     "metadata": {},
     "output_type": "execute_result"
    }
   ],
   "source": [
    "#df_test_dropped = df_test.drop(col_dropped, axis=1)\n",
    "#print(df_test.columns)\n",
    "df_test.fillna(method='backfill', inplace=True)\n",
    "\n",
    "df_test_cont = df_test.select_dtypes(exclude=['object']).drop(list(col_dropped)+['id'], axis=1)\n",
    "df_test_cat = df_test.select_dtypes(include=['object']).drop('timestamp', axis=1)\n",
    "\n",
    "df_test_vec = pd.get_dummies(df_test_cat, drop_first=True)\n",
    "df_te = pd.concat([df_test_cont, df_test_vec], axis=1)\n",
    "df_te.columns, df_te.shape"
   ]
  },
  {
   "cell_type": "code",
   "execution_count": 23,
   "metadata": {},
   "outputs": [
    {
     "data": {
      "text/plain": [
       "{'price_doc', 'sub_area_Poselenie Klenovskoe'}"
      ]
     },
     "execution_count": 23,
     "metadata": {},
     "output_type": "execute_result"
    }
   ],
   "source": [
    "set(df_te.columns).symmetric_difference(set(df_tr.columns))"
   ]
  },
  {
   "cell_type": "code",
   "execution_count": 7,
   "metadata": {
    "collapsed": true
   },
   "outputs": [],
   "source": [
    "from sklearn.preprocessing import StandardScaler\n",
    "from sklearn.model_selection import train_test_split\n",
    "\n",
    "X_scaled = StandardScaler().fit_transform(X)\n",
    "X_train, X_test, y_train, y_test = train_test_split(X, y, test_size=0.3, random_state=1)"
   ]
  },
  {
   "cell_type": "code",
   "execution_count": 9,
   "metadata": {
    "collapsed": true
   },
   "outputs": [],
   "source": [
    "from sklearn.metrics import mean_squared_error\n",
    "import numpy as np\n",
    "\n",
    "def RMSLE(y_true, y_predict):\n",
    "    return np.sqrt(mean_squared_error(np.log(y_true+1), np.log(np.maximum(y_predict, 0)+1)))"
   ]
  },
  {
   "cell_type": "code",
   "execution_count": 11,
   "metadata": {
    "collapsed": true
   },
   "outputs": [],
   "source": [
    "def plot_errors(paras, error_train, error_test, para_name='parameter'):\n",
    "    ax = plt.gca()\n",
    "    plt.plot(paras, error_train, label='train error')\n",
    "    plt.plot(paras, error_test, label='test error')\n",
    "    ax.set_xscale('log')\n",
    "    plt.xlabel(para_name)\n",
    "    #plt.title('standardized training data')\n",
    "    plt.legend()"
   ]
  },
  {
   "cell_type": "code",
   "execution_count": 14,
   "metadata": {},
   "outputs": [
    {
     "name": "stderr",
     "output_type": "stream",
     "text": [
      "/home/matthew/anaconda3/envs/sml/lib/python3.6/site-packages/sklearn/ensemble/forest.py:723: UserWarning: Some inputs do not have OOB scores. This probably means too few trees were used to compute any reliable oob estimates.\n",
      "  warn(\"Some inputs do not have OOB scores. \"\n"
     ]
    }
   ],
   "source": [
    "from sklearn.ensemble import RandomForestRegressor\n",
    "\n",
    "ns = [10, 50, 100]\n",
    "errors_train = []\n",
    "errors_test = []\n",
    "\n",
    "for n in ns:\n",
    "    rfr = RandomForestRegressor(n_estimators=n, oob_score=True)\n",
    "    rfr.fit(X_train, y_train)\n",
    "    errors_train.append(RMSLE(y_train, rfr.predict(X_train)))\n",
    "    errors_test.append(RMSLE(y_test, rfr.predict(X_test)))"
   ]
  },
  {
   "cell_type": "code",
   "execution_count": 16,
   "metadata": {
    "scrolled": true
   },
   "outputs": [
    {
     "name": "stdout",
     "output_type": "stream",
     "text": [
      "[0.28911263420285843, 0.28222372878924173, 0.28208018462603546] [0.49620305690601096, 0.48610502623307483, 0.48477711304637711]\n"
     ]
    },
    {
     "data": {
      "image/png": "[encoded data removed]",
      "text/plain": [
       "<matplotlib.figure.Figure at 0x7f1b059c9908>"
      ]
     },
     "metadata": {},
     "output_type": "display_data"
    }
   ],
   "source": [
    "print(errors_train, errors_test)\n",
    "plot_errors(ns, errors_train, errors_test, 'number_of_estimators')"
   ]
  },
  {
   "cell_type": "code",
   "execution_count": 28,
   "metadata": {},
   "outputs": [],
   "source": [
    "rfr = RandomForestRegressor(n_estimators=100)\n",
    "rfr.fit(X.drop(['sub_area_Poselenie Klenovskoe'], axis=1), y)\n",
    "y_pred = rfr.predict(df_te)\n",
    "y_output = df_test['id']\n",
    "y_output = pd.concat([y_output, pd.Series(list(np.round(y_pred, 2)), name='price_doc')], axis=1)"
   ]
  },
  {
   "cell_type": "code",
   "execution_count": 31,
   "metadata": {},
   "outputs": [],
   "source": [
    "#y_output.describe()\n",
    "with open(dataDir + 'test_submission_randomforest100.csv', 'w') as fw:\n",
    "    y_output.to_csv(path_or_buf=fw, index=False)"
   ]
  },
  {
   "cell_type": "code",
   "execution_count": 32,
   "metadata": {},
   "outputs": [
    {
     "data": {
      "text/plain": [
       "False"
      ]
     },
     "execution_count": 32,
     "metadata": {},
     "output_type": "execute_result"
    }
   ],
   "source": [
    "np.any(np.isnan(df_te))"
   ]
  }
 ],
 "metadata": {
  "kernelspec": {
   "display_name": "Python 3",
   "language": "python",
   "name": "python3"
  },
  "language_info": {
   "codemirror_mode": {
    "name": "ipython",
    "version": 3
   },
   "file_extension": ".py",
   "mimetype": "text/x-python",
   "name": "python",
   "nbconvert_exporter": "python",
   "pygments_lexer": "ipython3",
   "version": "3.6.1"
  }
 },
 "nbformat": 4,
 "nbformat_minor": 2
}
